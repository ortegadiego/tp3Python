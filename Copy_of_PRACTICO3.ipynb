{
  "nbformat": 4,
  "nbformat_minor": 0,
  "metadata": {
    "colab": {
      "provenance": [],
      "include_colab_link": true
    },
    "kernelspec": {
      "name": "python3",
      "display_name": "Python 3"
    },
    "language_info": {
      "name": "python"
    }
  },
  "cells": [
    {
      "cell_type": "markdown",
      "metadata": {
        "id": "view-in-github",
        "colab_type": "text"
      },
      "source": [
        "<a href=\"https://colab.research.google.com/github/ortegadiego/tp3Python/blob/main/Copy_of_PRACTICO3.ipynb\" target=\"_parent\"><img src=\"https://colab.research.google.com/assets/colab-badge.svg\" alt=\"Open In Colab\"/></a>"
      ]
    },
    {
      "cell_type": "markdown",
      "source": [
        "# TRABAJO PRACTICO N 3\n"
      ],
      "metadata": {
        "id": "3EwNdi9QydGU"
      }
    },
    {
      "cell_type": "markdown",
      "source": [
        "***TEMAS A DESARROLLAR:***\n",
        "\n",
        "Nociones de Probabilidad, simulación de procesos aleatorios, cálculo de parámetros estadisticos: Media o Valor Esperado(PROMEDIO), Mediana, Desvio Estandar. DISTRIBUCIONES DE PROABABILIDAD más frecuentes, por ejemplo la Normal.\n"
      ],
      "metadata": {
        "id": "fhG0B7Fty79v"
      }
    },
    {
      "cell_type": "markdown",
      "metadata": {
        "id": "jyrQncyp-o6z"
      },
      "source": [
        "## Funciones estadísticas para análisis exploratorio de datos\n",
        "A continuación se presentan ejemplos de funciones estadísticas para el análisis exploratorio de datos utilizando NumPy:"
      ]
    },
    {
      "cell_type": "markdown",
      "metadata": {
        "id": "RY7poYIL-o6y"
      },
      "source": [
        "#### Crear array aleatorio\n",
        "En esta celda, se utiliza la función np.random.rand() de NumPy para crear un array de números aleatorios con una forma específica. Luego, se imprime el array."
      ]
    },
    {
      "cell_type": "code",
      "execution_count": null,
      "metadata": {
        "colab": {
          "base_uri": "https://localhost:8080/"
        },
        "id": "yYNWQ6gM-o6y",
        "outputId": "37aedb1f-c950-4b07-b8cd-4823d11203bf"
      },
      "outputs": [
        {
          "output_type": "stream",
          "name": "stdout",
          "text": [
            "Array aleatorio: [[0 5 8]\n",
            " [5 5 9]\n",
            " [8 7 5]\n",
            " [9 0 0]]\n"
          ]
        }
      ],
      "source": [
        "import numpy as np\n",
        "random_array = np.random.randint(0,10, (4,3))\n",
        "print(\"Array aleatorio:\", random_array)"
      ]
    },
    {
      "cell_type": "markdown",
      "metadata": {
        "id": "VZ2loIOU-o6z"
      },
      "source": [
        "#### Media\n",
        "En esta celda, se crea un array 'array' y se utiliza la función np.mean() de NumPy para calcular la media del array. Luego, se imprime el resultado."
      ]
    },
    {
      "cell_type": "code",
      "execution_count": null,
      "metadata": {
        "colab": {
          "base_uri": "https://localhost:8080/"
        },
        "id": "sPE9oXi4-o6z",
        "outputId": "bead0399-fb82-45dd-fc79-1bb2e8016bc6"
      },
      "outputs": [
        {
          "output_type": "stream",
          "name": "stdout",
          "text": [
            "Media: 3.0\n"
          ]
        }
      ],
      "source": [
        "array = np.array([1, 2, 3, 4, 5])\n",
        "media = np.mean(array)\n",
        "print(\"Media:\", media)"
      ]
    },
    {
      "cell_type": "markdown",
      "metadata": {
        "id": "dvEomGsS-o6z"
      },
      "source": [
        "#### Desviación estándar\n",
        "En esta celda, se crea un array 'array' y se utiliza la función np.std() de NumPy para calcular la desviación estándar del array. Luego, se imprime el resultado."
      ]
    },
    {
      "cell_type": "code",
      "execution_count": null,
      "metadata": {
        "colab": {
          "base_uri": "https://localhost:8080/"
        },
        "id": "9V1fmwjN-o66",
        "outputId": "0ddb450c-2ec9-488c-9139-ccca4d0e4bec"
      },
      "outputs": [
        {
          "output_type": "stream",
          "name": "stdout",
          "text": [
            "Desviación estándar: 1.4142135623730951\n"
          ]
        }
      ],
      "source": [
        "array = np.array([1, 2, 3, 4, 5])\n",
        "desviacion_estandar = np.std(array)\n",
        "print(\"Desviación estándar:\", desviacion_estandar)"
      ]
    },
    {
      "cell_type": "markdown",
      "metadata": {
        "id": "y7XKPmE0-o69"
      },
      "source": [
        "#### Varianza\n",
        "La función np.var() se utiliza para calcular la varianza de un array.\n",
        "Ejemplo de uso:"
      ]
    },
    {
      "cell_type": "code",
      "execution_count": null,
      "metadata": {
        "colab": {
          "base_uri": "https://localhost:8080/"
        },
        "id": "5e758a05",
        "outputId": "92404ab0-bbc1-4c5a-cf0f-e13a56d7b1e9"
      },
      "outputs": [
        {
          "output_type": "stream",
          "name": "stdout",
          "text": [
            "Varianza: 2.0\n"
          ]
        }
      ],
      "source": [
        "array = np.array([1, 2, 3, 4, 5])\n",
        "varianza = np.var(array)\n",
        "print(\"Varianza:\", varianza)"
      ]
    },
    {
      "cell_type": "markdown",
      "metadata": {
        "id": "_Ql_kgVk-o66"
      },
      "source": [
        "#### Valor mínimo\n",
        "En esta celda, se crea un array 'array' y se utiliza la función np.min() de NumPy para encontrar el valor mínimo del array. Luego, se imprime el resultado."
      ]
    },
    {
      "cell_type": "code",
      "execution_count": null,
      "metadata": {
        "colab": {
          "base_uri": "https://localhost:8080/"
        },
        "id": "4Xsua_Hd-o66",
        "outputId": "efb878e7-3849-4442-ee33-9bbf92709339"
      },
      "outputs": [
        {
          "output_type": "stream",
          "name": "stdout",
          "text": [
            "Valor mínimo: [-2 -2 -2 -3 -3]\n",
            "[[-2  2  0 -3  0]\n",
            " [ 2  1 -1  0 -3]\n",
            " [ 1  2 -2 -1 -1]\n",
            " [-1 -2 -2 -1 -3]\n",
            " [-1  0  0  0  2]]\n"
          ]
        }
      ],
      "source": [
        "array = np.array([1, 2, 3, 4, 5])\n",
        "matriz=np.random.randint(-3,3,(5,5))\n",
        "#minimo = np.min(array)\n",
        "minimo = np.min(matriz, axis=0)\n",
        "print(\"Valor mínimo:\", minimo)\n",
        "print( matriz)\n"
      ]
    },
    {
      "cell_type": "markdown",
      "metadata": {
        "id": "GVhP0lkq-o66"
      },
      "source": [
        "#### Valor máximo\n",
        "En esta celda, se crea un array 'array' y se utiliza la función np.max() de NumPy para encontrar el valor máximo del array. Luego, se imprime el resultado."
      ]
    },
    {
      "cell_type": "code",
      "execution_count": null,
      "metadata": {
        "colab": {
          "base_uri": "https://localhost:8080/"
        },
        "id": "83u0COEW-o66",
        "outputId": "d2f195b1-7e16-4490-be6a-f751bbfcc47a"
      },
      "outputs": [
        {
          "output_type": "stream",
          "name": "stdout",
          "text": [
            "Valor máximo: 5\n"
          ]
        }
      ],
      "source": [
        "maximo = np.max(array)\n",
        "print(\"Valor máximo:\", maximo)"
      ]
    },
    {
      "cell_type": "markdown",
      "metadata": {
        "id": "7uMUsI2_-o67"
      },
      "source": [
        "#### Gráfico de dispersión\n",
        "En esta celda, se crea un array 'x' con valores aleatorios y un array 'y' con valores aleatorios. Luego, se utiliza la biblioteca Matplotlib para trazar un gráfico de dispersión con 'x' en el eje x y 'y' en el eje y. También se agrega etiquetas y un título al gráfico."
      ]
    },
    {
      "cell_type": "code",
      "execution_count": null,
      "metadata": {
        "colab": {
          "base_uri": "https://localhost:8080/",
          "height": 472
        },
        "id": "e0S5-Csz-o67",
        "outputId": "4423a1af-f9e7-48c4-dedb-1a8bccc7e91c"
      },
      "outputs": [
        {
          "output_type": "display_data",
          "data": {
            "text/plain": [
              "<Figure size 640x480 with 1 Axes>"
            ],
            "image/png": "[encoded data removed]"
          },
          "metadata": {}
        }
      ],
      "source": [
        "x = np.random.rand(100)\n",
        "y = np.random.rand(100)\n",
        "\n",
        "plt.scatter(x, y)\n",
        "plt.xlabel('x')\n",
        "plt.ylabel('y')\n",
        "plt.title('Gráfico de dispersión')\n",
        "plt.show()"
      ]
    },
    {
      "cell_type": "markdown",
      "metadata": {
        "id": "bSbKBHmZ-o67"
      },
      "source": [
        "En esta celda, se crea un array 'data' con valores aleatorios siguiendo una distribución normal. Luego, se utiliza la biblioteca Matplotlib para trazar un histograma de 'data'. También se agrega etiquetas y un título al gráfico."
      ]
    },
    {
      "cell_type": "code",
      "execution_count": null,
      "metadata": {
        "colab": {
          "base_uri": "https://localhost:8080/",
          "height": 472
        },
        "id": "gV_7p8Lk-o68",
        "outputId": "380e4aea-dfed-4dbd-e942-5c5b35d4ee35"
      },
      "outputs": [
        {
          "output_type": "display_data",
          "data": {
            "text/plain": [
              "<Figure size 640x480 with 1 Axes>"
            ],
            "image/png": "[encoded data removed]"
          },
          "metadata": {}
        }
      ],
      "source": [
        "data = np.random.normal(0, 1, 1000)\n",
        "\n",
        "plt.hist(data, bins=30)\n",
        "plt.xlabel('Valor')\n",
        "plt.ylabel('Frecuencia')\n",
        "plt.title('Histograma')\n",
        "plt.show()"
      ]
    },
    {
      "cell_type": "markdown",
      "metadata": {
        "id": "oCGRe3n_-o68"
      },
      "source": [
        "#### Mediana\n",
        "La función np.median() se utiliza para calcular la mediana de un array.\n",
        "Ejemplo de uso:"
      ]
    },
    {
      "cell_type": "code",
      "execution_count": null,
      "metadata": {
        "colab": {
          "base_uri": "https://localhost:8080/"
        },
        "id": "37f660c6",
        "outputId": "b08edb66-da60-48ba-fe2a-9835b46d7a70"
      },
      "outputs": [
        {
          "output_type": "stream",
          "name": "stdout",
          "text": [
            "Mediana: 3.0\n"
          ]
        }
      ],
      "source": [
        "array = np.array([1, 2, 3, 4, 5])\n",
        "mediana = np.median(array)\n",
        "print(\"Mediana:\", mediana)"
      ]
    },
    {
      "cell_type": "markdown",
      "metadata": {
        "id": "Dlkgy0Bj-o69"
      },
      "source": [
        "#### Percentiles\n",
        "La función np.percentile() se utiliza para calcular los percentiles de un array.\n",
        "Ejemplo de uso:"
      ]
    },
    {
      "cell_type": "code",
      "execution_count": null,
      "metadata": {
        "colab": {
          "base_uri": "https://localhost:8080/"
        },
        "id": "7ffea41c",
        "outputId": "304f4a67-7123-4c89-f934-521eada82522"
      },
      "outputs": [
        {
          "output_type": "stream",
          "name": "stdout",
          "text": [
            "Percentil 50: 3.0\n"
          ]
        }
      ],
      "source": [
        "array = np.array([1, 2, 3, 4, 5])\n",
        "percentil_50 = np.percentile(array, 50)\n",
        "print(\"Percentil 50:\", percentil_50)"
      ]
    },
    {
      "cell_type": "markdown",
      "source": [
        "\n",
        "# EJEMPLOS Y APLICACIÓNES\n"
      ],
      "metadata": {
        "id": "gwjQOi8Kyndy"
      }
    },
    {
      "cell_type": "markdown",
      "source": [
        "***APLICACIÓN DE PROBABILIDAD***\n",
        "\n",
        "Se Realiza el lanzamiento de un dado EQUILIBRADO JUSTO, de manera reiterada con las mismas condiciones, y se anotan sus resultados= CARA O CRUZ.\n",
        "\n",
        "Se le pide al usuario que defina la cantidad N de lanzamientos y se calcula su frecuencia relativa= 'PROBABILIDAD' de obtener cara o cruz. Se obtiene los siguientes resultados:"
      ],
      "metadata": {
        "id": "SPfckR9xRvdf"
      }
    },
    {
      "cell_type": "code",
      "execution_count": null,
      "metadata": {
        "id": "4RkcdDGQyPv_",
        "colab": {
          "base_uri": "https://localhost:8080/"
        },
        "outputId": "9603abb9-003d-42e7-ccec-f1480c8d8648"
      },
      "outputs": [
        {
          "name": "stdout",
          "output_type": "stream",
          "text": [
            "ingrese la cantidad de simulación o lanzamientos50\n"
          ]
        }
      ],
      "source": [
        "import numpy as np\n",
        "n=int(input('ingrese la cantidad de simulación o lanzamientos'))\n",
        "\n",
        "#========= FORMA 1 DE SIMULAR LANZAMIENTO DE UN DADO============\n",
        "dado=[]\n",
        "cara=0\n",
        "cruz=0\n",
        "for i in range(n):\n",
        "  dado.append(np.random.rand(1))\n",
        "  dado1=np.array(dado)\n",
        "  if dado1[i]<0.5:\n",
        "    #print('salio cara')\n",
        "    #print(dado[i])\n",
        "    cara +=1\n",
        "  else:\n",
        "    #print('salio cruz')\n",
        "    #print(dado[i])\n",
        "    cruz +=1\n"
      ]
    },
    {
      "cell_type": "code",
      "source": [
        "#  mostrar la probailidad frecuencista de el lanzamiento de un dado\n",
        "prom_cara=cara/n\n",
        "prom_cruz=cruz/n\n",
        "print('la probabilidad aproximada en '+str(n)+' lanzamientos de sacar CARA es:', prom_cara)\n",
        "print('la probabilidad aproximada en '+str(n)+' lanzamientos de sacar CRUZ es:', prom_cruz)"
      ],
      "metadata": {
        "id": "RvOMR4nSD4wo",
        "colab": {
          "base_uri": "https://localhost:8080/"
        },
        "outputId": "b2cd70ca-1f07-440e-bbe1-4e2d5ad2f409"
      },
      "execution_count": null,
      "outputs": [
        {
          "output_type": "stream",
          "name": "stdout",
          "text": [
            "la probabilidad aproximada en 100 lanzamientos de sacar CARA es: 0.47\n",
            "la probabilidad aproximada en 100 lanzamientos de sacar CRUZ es: 0.53\n"
          ]
        }
      ]
    },
    {
      "cell_type": "code",
      "source": [
        "#========== FORMA COMPACTA DE SIMULAR USANDO NUMPY===========\n",
        "m=int(input('ingrese la cantidad de simulación o lanzamientos'))\n",
        "lanzamientos = np.random.randint(0, 2, m)\n",
        "\n",
        "# Calcular las probabilidades\n",
        "\n",
        "probabilidad_cara = np.sum(lanzamientos ==0 ) / len(lanzamientos)\n",
        "probabilidad_sello = np.sum(lanzamientos== 1) / len(lanzamientos)\n",
        "\n",
        "print(f\"Probabilidad de cara: {probabilidad_cara:.2f}\")\n",
        "print(f\"Probabilidad de sello: {probabilidad_sello:.2f}\")"
      ],
      "metadata": {
        "id": "5KY2nymYFAy2",
        "colab": {
          "base_uri": "https://localhost:8080/"
        },
        "outputId": "737d4f4e-a574-4d44-f532-7462b0d8ad63"
      },
      "execution_count": null,
      "outputs": [
        {
          "output_type": "stream",
          "name": "stdout",
          "text": [
            "ingrese la cantidad de simulación o lanzamientos100\n",
            "Probabilidad de cara: 0.53\n",
            "Probabilidad de sello: 0.47\n"
          ]
        }
      ]
    },
    {
      "cell_type": "code",
      "source": [
        "import matplotlib.pyplot as plt\n",
        "x=np.array(range(2))\n",
        "y=np.array([probabilidad_cara, probabilidad_sello])\n",
        "\n",
        "plt.bar(x,y)\n",
        "plt.xlabel('Opción')\n",
        "plt.ylabel('Frecuencia relativa')\n",
        "plt.title('Histograma del lanzamiento de una moneda equilibrada')\n",
        "plt.show()"
      ],
      "metadata": {
        "colab": {
          "base_uri": "https://localhost:8080/",
          "height": 472
        },
        "outputId": "3e7bb8b7-6733-4819-a1bf-bf0897a6a6a3",
        "id": "-llwABNxopr8"
      },
      "execution_count": null,
      "outputs": [
        {
          "output_type": "display_data",
          "data": {
            "text/plain": [
              "<Figure size 640x480 with 1 Axes>"
            ],
            "image/png": "[encoded data removed]"
          },
          "metadata": {}
        }
      ]
    },
    {
      "cell_type": "markdown",
      "source": [
        "# EJERCICIOS"
      ],
      "metadata": {
        "id": "BQD9uyGpc2Q0"
      }
    },
    {
      "cell_type": "markdown",
      "source": [
        "##***EJERCICIO 1***\n",
        "\n",
        "Simular el lanzamiento de un dado eqilibrado de 6 caras.\n",
        "\n",
        "\n",
        "*   Mostrar la probabilida aproximada de obtener el número 2, 3 y 5\n",
        "*   Graficar el histograma de las probabilidades\n",
        "\n"
      ],
      "metadata": {
        "id": "oaBQ-ToZIASA"
      }
    },
    {
      "cell_type": "code",
      "source": [
        "import numpy as np\n",
        "from random import randint\n",
        "dado=[]\n",
        "\n",
        "n=int(input('ingrese la cantidad de simulación o lanzamientos'))\n",
        "lado1 = 0\n",
        "lado2 = 0\n",
        "lado3 = 0\n",
        "lado4 = 0\n",
        "lado5 = 0\n",
        "lado6 = 0\n",
        "for i in range(n):\n",
        "    lado = randint(1,6)\n",
        "    dado.append(lado)\n",
        "    if lado == 1:\n",
        "        lado1 = lado1 + 1\n",
        "    if lado == 2:\n",
        "        lado2 = lado2 + 1\n",
        "    if lado == 3:\n",
        "        lado3 = lado3 + 1\n",
        "    if lado == 4:\n",
        "        lado4 = lado4 + 1\n",
        "    if lado == 5:\n",
        "        lado5 = lado5 + 1\n",
        "    if lado == 6:\n",
        "        lado6 = lado6 + 1\n",
        "\n",
        "print('lado 1', lado1)\n",
        "print('lado 2', lado2)\n",
        "print(f\"Probabilidad de que saliera dos: {(lado2/n):.2f}\")\n",
        "print('lado 3', lado3)\n",
        "print(f'Probabilidad de que saliera tres: {(lado3/n):.2f}')\n",
        "print('lado 4', lado4)\n",
        "print('lado 5', lado5)\n",
        "print(f'Probabilidad de que saliera cinco: {(lado5/n):.2f}')\n",
        "print('lado 6', lado6)\n",
        "\n",
        "import matplotlib.pyplot as plt\n",
        "x=np.array(range(6))\n",
        "y=np.array([lado1/n, lado2/n, lado3/n, lado4/n, lado5/n, lado6/n])\n",
        "\n",
        "plt.bar(x,y)\n",
        "plt.xlabel('Opción')\n",
        "plt.ylabel('Frecuencia relativa')\n",
        "plt.title('Histograma del lanzamiento de un dado')\n",
        "plt.show()"
      ],
      "metadata": {
        "id": "HY1Cv5dBcDJb"
      },
      "execution_count": null,
      "outputs": []
    },
    {
      "cell_type": "markdown",
      "source": [
        "## ***EJERCICIO 2***\n",
        "\n",
        "Simular el lanzamiento de un dado NO eqilibrado o cargado de 6 caras, de manera que las chances o probabilidades de salir 1 o 2 sean el doble de obtener otro resultado (3,4,5 o 6)\n",
        "\n",
        "\n",
        "*   Mostrar la probabilida aproximada de obtener el número 2, 3 y 5\n",
        "*   Graficar el histograma de las probabilidades\n",
        "\n"
      ],
      "metadata": {
        "id": "YXLKo8SqTYe1"
      }
    },
    {
      "cell_type": "code",
      "source": [
        "import numpy as np\n",
        "from random import randint\n",
        "dado=[]\n",
        "\n",
        "n=int(input('ingrese la cantidad de simulación o lanzamientos'))\n",
        "lado1 = 0\n",
        "lado2 = 0\n",
        "lado3 = 0\n",
        "lado4 = 0\n",
        "lado5 = 0\n",
        "lado6 = 0\n",
        "for i in range(n):\n",
        "    lado = randint(1,6)\n",
        "    dado.append(lado)\n",
        "    if lado == 1:\n",
        "        lado1 = lado1 + 2\n",
        "    if lado == 2:\n",
        "        lado2 = lado2 + 2\n",
        "    if lado == 3:\n",
        "        lado3 = lado3 + 1\n",
        "    if lado == 4:\n",
        "        lado4 = lado4 + 1\n",
        "    if lado == 5:\n",
        "        lado5 = lado5 + 1\n",
        "    if lado == 6:\n",
        "        lado6 = lado6 + 1\n",
        "\n",
        "print('lado 1', lado1)\n",
        "print('lado 2', lado2)\n",
        "print(f\"Probabilidad de que saliera dos: {(lado2/n):.2f}\")\n",
        "print('lado 3', lado3)\n",
        "print(f'Probabilidad de que saliera tres: {(lado3/n):.2f}')\n",
        "print('lado 4', lado4)\n",
        "print('lado 5', lado5)\n",
        "print(f'Probabilidad de que saliera cinco: {(lado5/n):.2f}')\n",
        "print('lado 6', lado6)\n",
        "\n",
        "import matplotlib.pyplot as plt\n",
        "x=np.array(range(6))\n",
        "y=np.array([lado1/n, lado2/n, lado3/n, lado4/n, lado5/n, lado6/n])\n",
        "\n",
        "plt.bar(x,y)\n",
        "plt.xlabel('Opción')\n",
        "plt.ylabel('Frecuencia relativa')\n",
        "plt.title('Histograma del lanzamiento de un dado')\n",
        "plt.show()"
      ],
      "metadata": {
        "id": "Me-FHMEXhJG6"
      },
      "execution_count": null,
      "outputs": []
    },
    {
      "cell_type": "markdown",
      "source": [
        "## EJERCICIO 3\n",
        "\n",
        " Realizar la simulación del juego {piedra,papel , tijera} donde el resultado de esta simulación deberá ser lo que mi oponente elije. No debe considerarse la simulación de mi elección.\n",
        "\n",
        "\n",
        "\n",
        "*   Calcular la probailidad aproximada que mi oponente elija, 'piedra', 'papel', o 'tijera', en N jugadas.\n",
        "*   Realizar un grafico de barra mostrando estas probabilidad. Concluir algo sobre las probabilidades de estos resultados, cuando el número de jugadas se incrementa bastante.\n",
        "\n",
        "\n"
      ],
      "metadata": {
        "id": "f4-hugk8UhXi"
      }
    },
    {
      "cell_type": "code",
      "source": [
        "m=int(input('ingrese la cantidad de simulación o lanzamientos'))\n",
        "lanzamientos = np.random.randint(0, 3, m)\n",
        "\n",
        "##siendo 0=piedra, 1=papel, 2=tijeras\n",
        "# Calcular las probabilidades\n",
        "\n",
        "probabilidad_piedra = np.sum(lanzamientos==0 ) / len(lanzamientos)\n",
        "probabilidad_papel = np.sum(lanzamientos==1) / len(lanzamientos)\n",
        "probabilidad_tijera = np.sum(lanzamientos==2) / len(lanzamientos)\n",
        "\n",
        "\n",
        "print(f\"Probabilidad de piedra: {probabilidad_piedra:.2f}\")\n",
        "print(f\"Probabilidad de papel: {probabilidad_papel:.2f}\")\n",
        "print(f\"Probabilidad de tijera: {probabilidad_tijera:.2f}\")\n",
        "\n",
        "import matplotlib.pyplot as plt\n",
        "x=np.array(range(3))\n",
        "y=np.array([probabilidad_piedra, probabilidad_papel, probabilidad_tijera])\n",
        "\n",
        "plt.bar(x,y)\n",
        "plt.xlabel('Opción')\n",
        "plt.ylabel('Frecuencia relativa')\n",
        "plt.title('Histograma de piedra, papel y tijera')\n",
        "plt.show()\n",
        "\n",
        "#Respuesta: Para valores mucho más grande, las probabilidades de todos se asemejan"
      ],
      "metadata": {
        "id": "QE7Rb0FJjCGM"
      },
      "execution_count": null,
      "outputs": []
    },
    {
      "cell_type": "markdown",
      "source": [
        "## EJERCICIO 4\n",
        "\n",
        "Dada la base de datos de ventas diarias durante una semana, de un negocio con 4 productos.- VER EJERCICIO PARTE 2 PRACTICO N 2- Realizar el siguiente análisis de datos para poder obtener información y planificar una estrategia de ventas.\n",
        "\n",
        "\n",
        "1.   Calcular la media en la ventas por cada producto y la mediana. Plotear estos nuevos datos en un gráfico de barra.\n",
        "2.    Calcular la media en la ventas por DÍA y la mediana. Plotear estos nuevos datos en un gráfico de TRAZO DE LINEAS.\n",
        "3.   Realizar una conclusión en función las graficas y sugerir al menos 5 estrategias de venta o inversión de manera de potenciar este negocio.\n",
        "4.   Calcular el desvio estandar de los datos por cada producto y concluir para cada producto como es su rango de variabilidad en las ventas de los mismos.Plotear los datos de ventas de la semana de los productos con mayor y menor desvio estandar y evidenciar la variabilidad indicada en el parametro *'DESVIO ESTANDAR'*\n",
        "\n"
      ],
      "metadata": {
        "id": "-tHDC2xFEvZ3"
      }
    },
    {
      "cell_type": "markdown",
      "source": [
        "## EJERCICIO 5  \n",
        "\n",
        "Solicitar al usuario que ingrese la cantidad N de datos a cargar. Luego generar de manera aleatoria los siguientes datos:\n",
        "\n",
        "* SEXO= 'MASCULINO', 'FEMENINO','NO ESPECIFICA'\n",
        "* EDAD= entre 28 y 60 años\n",
        "* ALTURA= entre un rango de 165.0 mts hasta 210 mts\n",
        "* PESO= entre un rango de 50  y 110 kg\n",
        "* HORAS DE DESCANSO diario= un número decimal\n",
        "* HORAS DE TRABAJO/ ESTUDIO diario= un número decimal\n",
        "* HORAS DE EJERCICIOS diario= un número decimal\n",
        "\n",
        "REalizar las siguientes indicaciones y extraer concluisiones sobre la información y la pooblación muestreada.\n",
        "\n",
        "1.   Generar un array de dimensión 2 (matriz), con todos los datos ordenados, permitiendo visualizarlos como tabla.\n",
        "2.   Suponiendo que la distribución de probabilidad de los datos muestrados de las N personas, se distribuyen en forma NORMAL. Encontrar la media en los datos de altura, peso, y horas de descanso, trabajo y ejercicios.\n",
        "3.  Graficar la muestra o distribución de los datos  de pesos , y alturas en graficas separadas. Indicar el grado de variabilidad de sus datos\n",
        "4.  Plotear de manera conjunta y encontrar si presentan correlación los datos de peso vs altura,\n",
        "5. Plotear de manera conjunta los datos de horas de descanso, estudio y ejercicio\n",
        "\n"
      ],
      "metadata": {
        "id": "9H8wdssAzUkH"
      }
    },
    {
      "cell_type": "markdown",
      "source": [
        "## EJERCICIO 6\n",
        "\n",
        "Se realiza una encuesta a N usuario donde se registran los siguientes datos.\n",
        "\n",
        "['DNI','GASTOS MENSUALES DE HOGAR','INGRESOS MENSUALES POR HOGAR', 'CANTIDAD DE MIEMBROS QUE VIVEN POR HOGAR','GASTO MENSUAL EN LINEA TELEFÓNICA', 'GASTO MENSUAL POR PAGO DE INTERNET' ]\n",
        "\n",
        "Realizar la simulación de la carga de datos utilizando la siguiente información adicional:\n",
        "\n",
        "\n",
        "1.   El 70 % de los encuestados son jóvenes entre 15 y 21 años, el 10% son mayores de 60 años. Sugerencia, utilizar esto para generar los DNI\n",
        "2.   Los encuestados son de la provincia de Cordoba. Además el 80 % de la población de esa provincia tiene un grupo familiar de 5 personas. Con ingresos mensuales promedio de $258.000\n",
        "2.   Cerca del 80 % de los encuestados Gastan el 90% de sus ingresos, el resto gasta el 80% de sus ingresos.Ayuda, para simular la cantidad de miembros utilizar la distribución normal.\n",
        "3.  Del gasto Total por hogar se sabe que se abona un 15 % en telefonía y un 7.8% en servicio de internet.\n",
        "\n",
        "Con la información proporcionada, realizar la simulación de las encuestas de 100 y 1000 personas.\n",
        "\n",
        "*   Calcular el valor medio y desvio estandar de los gastos mensuales, ingresos mensuales y pagos de servicios.\n",
        "*   Plotear los datos de los ingesos , y gastos en gráficos de barra por separado y evidenciar la media y desvio estandar.\n",
        "*   Calcular la proporciona de jóvenes menores a 21 encuestados. Mostrar sus datos de grupos familiares, gastos en servicios de internet y telefonía. Concluir algo en base a esta información.\n",
        "*   Realizar un histograma con el dato del grupo familiar, y concluir algo acerca de la distribución de probabilidad.\n",
        "\n",
        "\n"
      ],
      "metadata": {
        "id": "XncXZ9X7b7Mw"
      }
    }
  ]
}